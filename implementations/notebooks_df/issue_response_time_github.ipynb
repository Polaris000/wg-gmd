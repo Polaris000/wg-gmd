{
 "cells": [
  {
   "cell_type": "markdown",
   "metadata": {},
   "source": [
    "## Issue Response Time\n",
    "This is the reference implementation for [Issue Response Time](https://github.com/chaoss/wg-evolution/blob/master/metrics/issues-maintainer-response-duration.md),\n",
    "a metric specified by the\n",
    "[Evolution Working Group](https://github.com/chaoss/wg-evolution) of the\n",
    "[CHAOSS project](https://chaoss.community).\n",
    "\n",
    "Have a look at [README.md](../README.md) to find out how to run this notebook (and others in this directory) as well as to get a better understanding of the purpose of the implementations.\n",
    "\n",
    "The implementation is described in two parts (see below):\n",
    "\n",
    "* Class for computing Issue Response Time\n",
    "* An explanatory analysis of the class' functionality\n",
    "\n",
    "Some more auxiliary information in this notebook:\n",
    "\n",
    "* Examples of the use of the implementation"
   ]
  },
  {
   "cell_type": "markdown",
   "metadata": {},
   "source": [
    "As discussed in the [README](../README.md) file, the scripts required to analyze the data fetched by Perceval are located in the `code_df` package. Due to python's import system, to import modules from a package which is not in the current directory, we have to either add the package to `PYTHONPATH` or simply append a `..` to `sys.path`, so that `code_df` can be successfully imported. "
   ]
  },
  {
   "cell_type": "code",
   "execution_count": 5,
   "metadata": {},
   "outputs": [],
   "source": [
    "from datetime import datetime\n",
    "import matplotlib.pyplot as plt\n",
    "import sys\n",
    "sys.path.append('..')\n",
    "import numpy as np\n",
    "from code_df import utils\n",
    "from code_df.issue import Issue\n",
    "%matplotlib inline"
   ]
  },
  {
   "cell_type": "code",
   "execution_count": 6,
   "metadata": {},
   "outputs": [],
   "source": [
    "class IssueResponseTimeGithub(Issue):\n",
    "    \"\"\"\n",
    "    Class for Issue Response Time\n",
    "    \"\"\"\n",
    "\n",
    "    def _flatten(self, item):\n",
    "        \"\"\"\n",
    "        Flatten a raw issue fetched by Perceval into a flat dictionary.\n",
    "\n",
    "        A list with a single flat directory will be returned.\n",
    "        That dictionary will have the elements we need for computing metrics.\n",
    "        The list may be empty, if for some reason the issue should not\n",
    "        be considered.\n",
    "\n",
    "        :param item: raw item fetched by Perceval (dictionary)\n",
    "        :returns:   list of a single flat dictionary\n",
    "        \"\"\"\n",
    "\n",
    "        creation_date = utils.str_to_date(item['data']['created_at'])\n",
    "        if self.since and (self.since > creation_date):\n",
    "            return []\n",
    "\n",
    "        if self.until and (self.until < creation_date):\n",
    "            return []\n",
    "\n",
    "        # all pull requests are considered to be issues by default.\n",
    "        # this check removes pull requests from the\n",
    "        # analysis.\n",
    "        if 'pull_request' in item['data']:\n",
    "            return []\n",
    "\n",
    "        flat = {\n",
    "            'repo': item['origin'],\n",
    "            'hash': item['data']['id'],\n",
    "            'category': \"issue\",\n",
    "            'author': item['data']['user']['login'],\n",
    "            'created_date': creation_date,\n",
    "            'current_status': item['data']['state']\n",
    "        }\n",
    "\n",
    "        member_comments = [comment for comment in item['data']['comments_data']\n",
    "                           if comment['author_association'] == 'MEMBER']\n",
    "\n",
    "        flat['issue_resp_time'] = np.NaN if len(member_comments) == 0 \\\n",
    "            else (datetime.now()\n",
    "                  - utils.str_to_date(\n",
    "                    min(comment['created_at']\n",
    "                        for comment in member_comments))) \\\n",
    "            .days\n",
    "\n",
    "        return [flat]\n",
    "\n",
    "    def compute(self):\n",
    "        \"\"\"\n",
    "        Compute the average issue response time for all issues\n",
    "        in the Perceval data.\n",
    "\n",
    "        :returns avg_issue_resp_time: the average time taken for\n",
    "        the first comment by a maintainer on an issue.\n",
    "        \"\"\"\n",
    "\n",
    "        avg_issue_resp_time = self.df['issue_resp_time'].mean()\n",
    "        return avg_issue_resp_time\n",
    "\n",
    "    def _agg(self, df, period):\n",
    "        \"\"\"\n",
    "        Perform an aggregation operation on a DataFrame to find\n",
    "        the average response time for issue created in a every\n",
    "        interval of the period specified in the time_series method,\n",
    "        like 'M', 'W',etc.\n",
    "\n",
    "        It computes the mean of the 'issue_res_time' column of the\n",
    "        DataFrame.\n",
    "\n",
    "        :param df: a pandas DataFrame on which the aggregation will be\n",
    "            applied.\n",
    "\n",
    "        :param period: A string which can be any one of the pandas time\n",
    "            series rules:\n",
    "            'W': week\n",
    "            'M': month\n",
    "            'D': day\n",
    "\n",
    "        :returns df: The aggregated dataframe, where aggregations have are the\n",
    "        so called items\n",
    "            been performed on the \"issue_resp_time\" column\n",
    "        \"\"\"\n",
    "\n",
    "        df = df.resample(period).agg({'issue_resp_time': 'mean'})\n",
    "        df['issue_resp_time'] = df['issue_resp_time'].fillna(0)\n",
    "\n",
    "        return df"
   ]
  },
  {
   "cell_type": "markdown",
   "metadata": {},
   "source": [
    "## Performing the Analysis\n",
    "We'll perform two kinds of analysis here:\n",
    "- Computing the average issue response time\n",
    "- The trends in issue response times over several months or weeks"
   ]
  },
  {
   "cell_type": "markdown",
   "metadata": {},
   "source": [
    "### Counting the average issue response time\n",
    "First, we read the JSON file `issues.json`, present in the `implementations` directory, one level up. We make use of the `read_json_file` utility function. "
   ]
  },
  {
   "cell_type": "code",
   "execution_count": 7,
   "metadata": {},
   "outputs": [],
   "source": [
    "items = utils.read_json_file('../issues.json')"
   ]
  },
  {
   "cell_type": "markdown",
   "metadata": {},
   "source": [
    "Let's use the `compute` method to compute average issue response time. First, we will do it without passing any since and until dates. \n",
    "Next, we can pass in the start and end dates as a tuple. The format would be `%Y-%m-%d`.   \n",
    "\n",
    "Lets calculate the average issue response time for issues first. Then, we can do it by passing a start date. Here, only those issues will be considered that were created after the start date we passed via the variable `date_since`. \n",
    "\n",
    "While printing the output, we will keep the precision to only two decimals. "
   ]
  },
  {
   "cell_type": "code",
   "execution_count": 8,
   "metadata": {},
   "outputs": [
    {
     "name": "stdout",
     "output_type": "stream",
     "text": [
      "The average age of all open issues is 579.52 days.\n",
      "The average age of open issues created after 2018-09-07 is 220.43 days.\n"
     ]
    }
   ],
   "source": [
    "date_since = datetime.strptime(\"2018-09-07\", \"%Y-%m-%d\")\n",
    "issue_resp_time = IssueResponseTimeGithub(items)\n",
    "print(\"The average age of all open issues is {:.2f} days.\"\n",
    "      .format(issue_resp_time.compute()))\n",
    "\n",
    "issue_resp_time_interval = IssueResponseTimeGithub(items, (date_since, None))\n",
    "print(\"The average age of open issues created after 2018-09-07 is {:.2f} days.\"\n",
    "      .format(issue_resp_time_interval.compute()))"
   ]
  },
  {
   "cell_type": "markdown",
   "metadata": {},
   "source": [
    "### Trends in issue response time\n",
    "Using the `timeseries` method, we can see how the average issue response time changes on every periodic interval of time. This interval can be a week, a month or any other valid pandas timeseries period.  This kind of analysis is useful in finding trends over time, as we will see in the cell below.\n",
    "\n",
    "Lets use the `issue_resp_time_interval` object we created above, where we passed an opening date to the object via `date_since`."
   ]
  },
  {
   "cell_type": "code",
   "execution_count": 9,
   "metadata": {},
   "outputs": [],
   "source": [
    "weekly_df = issue_resp_time_interval.time_series('W')"
   ]
  },
  {
   "cell_type": "markdown",
   "metadata": {},
   "source": [
    "Lets see what the dataframe returned by `timeseries` looks like. As you will notice, the dataframe has rows corresponding to each and every week between the start and end dates. To do this, we simply set the `created_date` column of the DataFrame `issue_resp_time_interval.df`, as its index and then `resample` it to whatever time period we need. In this case, we have used `W`.  "
   ]
  },
  {
   "cell_type": "code",
   "execution_count": 10,
   "metadata": {},
   "outputs": [
    {
     "data": {
      "text/html": [
       "<div>\n",
       "<style scoped>\n",
       "    .dataframe tbody tr th:only-of-type {\n",
       "        vertical-align: middle;\n",
       "    }\n",
       "\n",
       "    .dataframe tbody tr th {\n",
       "        vertical-align: top;\n",
       "    }\n",
       "\n",
       "    .dataframe thead th {\n",
       "        text-align: right;\n",
       "    }\n",
       "</style>\n",
       "<table border=\"1\" class=\"dataframe\">\n",
       "  <thead>\n",
       "    <tr style=\"text-align: right;\">\n",
       "      <th></th>\n",
       "      <th>issue_resp_time</th>\n",
       "    </tr>\n",
       "    <tr>\n",
       "      <th>created_date</th>\n",
       "      <th></th>\n",
       "    </tr>\n",
       "  </thead>\n",
       "  <tbody>\n",
       "    <tr>\n",
       "      <th>2018-09-09</th>\n",
       "      <td>0.000000</td>\n",
       "    </tr>\n",
       "    <tr>\n",
       "      <th>2018-09-16</th>\n",
       "      <td>299.250000</td>\n",
       "    </tr>\n",
       "    <tr>\n",
       "      <th>2018-09-23</th>\n",
       "      <td>292.000000</td>\n",
       "    </tr>\n",
       "    <tr>\n",
       "      <th>2018-09-30</th>\n",
       "      <td>284.000000</td>\n",
       "    </tr>\n",
       "    <tr>\n",
       "      <th>2018-10-07</th>\n",
       "      <td>267.000000</td>\n",
       "    </tr>\n",
       "    <tr>\n",
       "      <th>2018-10-14</th>\n",
       "      <td>0.000000</td>\n",
       "    </tr>\n",
       "    <tr>\n",
       "      <th>2018-10-21</th>\n",
       "      <td>0.000000</td>\n",
       "    </tr>\n",
       "    <tr>\n",
       "      <th>2018-10-28</th>\n",
       "      <td>255.000000</td>\n",
       "    </tr>\n",
       "    <tr>\n",
       "      <th>2018-11-04</th>\n",
       "      <td>0.000000</td>\n",
       "    </tr>\n",
       "    <tr>\n",
       "      <th>2018-11-11</th>\n",
       "      <td>244.000000</td>\n",
       "    </tr>\n",
       "    <tr>\n",
       "      <th>2018-11-18</th>\n",
       "      <td>238.000000</td>\n",
       "    </tr>\n",
       "    <tr>\n",
       "      <th>2018-11-25</th>\n",
       "      <td>226.400000</td>\n",
       "    </tr>\n",
       "    <tr>\n",
       "      <th>2018-12-02</th>\n",
       "      <td>219.000000</td>\n",
       "    </tr>\n",
       "    <tr>\n",
       "      <th>2018-12-09</th>\n",
       "      <td>217.500000</td>\n",
       "    </tr>\n",
       "    <tr>\n",
       "      <th>2018-12-16</th>\n",
       "      <td>208.000000</td>\n",
       "    </tr>\n",
       "    <tr>\n",
       "      <th>2018-12-23</th>\n",
       "      <td>0.000000</td>\n",
       "    </tr>\n",
       "    <tr>\n",
       "      <th>2018-12-30</th>\n",
       "      <td>177.000000</td>\n",
       "    </tr>\n",
       "    <tr>\n",
       "      <th>2019-01-06</th>\n",
       "      <td>185.000000</td>\n",
       "    </tr>\n",
       "    <tr>\n",
       "      <th>2019-01-13</th>\n",
       "      <td>180.666667</td>\n",
       "    </tr>\n",
       "    <tr>\n",
       "      <th>2019-01-20</th>\n",
       "      <td>172.000000</td>\n",
       "    </tr>\n",
       "    <tr>\n",
       "      <th>2019-01-27</th>\n",
       "      <td>0.000000</td>\n",
       "    </tr>\n",
       "    <tr>\n",
       "      <th>2019-02-03</th>\n",
       "      <td>0.000000</td>\n",
       "    </tr>\n",
       "    <tr>\n",
       "      <th>2019-02-10</th>\n",
       "      <td>0.000000</td>\n",
       "    </tr>\n",
       "    <tr>\n",
       "      <th>2019-02-17</th>\n",
       "      <td>0.000000</td>\n",
       "    </tr>\n",
       "    <tr>\n",
       "      <th>2019-02-24</th>\n",
       "      <td>137.000000</td>\n",
       "    </tr>\n",
       "    <tr>\n",
       "      <th>2019-03-03</th>\n",
       "      <td>0.000000</td>\n",
       "    </tr>\n",
       "    <tr>\n",
       "      <th>2019-03-10</th>\n",
       "      <td>124.000000</td>\n",
       "    </tr>\n",
       "    <tr>\n",
       "      <th>2019-03-17</th>\n",
       "      <td>119.000000</td>\n",
       "    </tr>\n",
       "    <tr>\n",
       "      <th>2019-03-24</th>\n",
       "      <td>0.000000</td>\n",
       "    </tr>\n",
       "    <tr>\n",
       "      <th>2019-03-31</th>\n",
       "      <td>104.000000</td>\n",
       "    </tr>\n",
       "  </tbody>\n",
       "</table>\n",
       "</div>"
      ],
      "text/plain": [
       "              issue_resp_time\n",
       "created_date                 \n",
       "2018-09-09           0.000000\n",
       "2018-09-16         299.250000\n",
       "2018-09-23         292.000000\n",
       "2018-09-30         284.000000\n",
       "2018-10-07         267.000000\n",
       "2018-10-14           0.000000\n",
       "2018-10-21           0.000000\n",
       "2018-10-28         255.000000\n",
       "2018-11-04           0.000000\n",
       "2018-11-11         244.000000\n",
       "2018-11-18         238.000000\n",
       "2018-11-25         226.400000\n",
       "2018-12-02         219.000000\n",
       "2018-12-09         217.500000\n",
       "2018-12-16         208.000000\n",
       "2018-12-23           0.000000\n",
       "2018-12-30         177.000000\n",
       "2019-01-06         185.000000\n",
       "2019-01-13         180.666667\n",
       "2019-01-20         172.000000\n",
       "2019-01-27           0.000000\n",
       "2019-02-03           0.000000\n",
       "2019-02-10           0.000000\n",
       "2019-02-17           0.000000\n",
       "2019-02-24         137.000000\n",
       "2019-03-03           0.000000\n",
       "2019-03-10         124.000000\n",
       "2019-03-17         119.000000\n",
       "2019-03-24           0.000000\n",
       "2019-03-31         104.000000"
      ]
     },
     "execution_count": 10,
     "metadata": {},
     "output_type": "execute_result"
    }
   ],
   "source": [
    "weekly_df"
   ]
  },
  {
   "cell_type": "markdown",
   "metadata": {},
   "source": [
    "Lets plot the dataframe `weekly_df` using matplotlib.pyplot. We use the `seaborn` theme and plot a simple line plot --- average open issue age vs time interval. Using the `plt.fill_between` method allows us to \"fill up\" the area between the line plot and the x axis."
   ]
  },
  {
   "cell_type": "code",
   "execution_count": 11,
   "metadata": {},
   "outputs": [
    {
     "data": {
      "image/png": "[encoded data removed]",
      "text/plain": [
       "<Figure size 576x396 with 1 Axes>"
      ]
     },
     "metadata": {},
     "output_type": "display_data"
    }
   ],
   "source": [
    "plt.style.use('seaborn')\n",
    "weekly_df.plot(y='issue_resp_time', use_index=True, marker='.')\n",
    "plt.fill_between(y1=weekly_df['issue_resp_time'], y2=0, x=weekly_df.index)\n",
    "plt.title(\"Issue Response Time Timeseries\");"
   ]
  },
  {
   "cell_type": "markdown",
   "metadata": {},
   "source": [
    "The lows in the graph above mean that either no issues were created that week, or that all created issues were closed. "
   ]
  },
  {
   "cell_type": "markdown",
   "metadata": {},
   "source": [
    "Lets try and do the same thing, but this time, we'll do it on a monthy basis."
   ]
  },
  {
   "cell_type": "code",
   "execution_count": 12,
   "metadata": {},
   "outputs": [],
   "source": [
    "monthly_df = issue_resp_time_interval.time_series('M')"
   ]
  },
  {
   "cell_type": "code",
   "execution_count": 13,
   "metadata": {},
   "outputs": [
    {
     "data": {
      "text/html": [
       "<div>\n",
       "<style scoped>\n",
       "    .dataframe tbody tr th:only-of-type {\n",
       "        vertical-align: middle;\n",
       "    }\n",
       "\n",
       "    .dataframe tbody tr th {\n",
       "        vertical-align: top;\n",
       "    }\n",
       "\n",
       "    .dataframe thead th {\n",
       "        text-align: right;\n",
       "    }\n",
       "</style>\n",
       "<table border=\"1\" class=\"dataframe\">\n",
       "  <thead>\n",
       "    <tr style=\"text-align: right;\">\n",
       "      <th></th>\n",
       "      <th>issue_resp_time</th>\n",
       "    </tr>\n",
       "    <tr>\n",
       "      <th>created_date</th>\n",
       "      <th></th>\n",
       "    </tr>\n",
       "  </thead>\n",
       "  <tbody>\n",
       "    <tr>\n",
       "      <th>2018-09-30</th>\n",
       "      <td>295.500000</td>\n",
       "    </tr>\n",
       "    <tr>\n",
       "      <th>2018-10-31</th>\n",
       "      <td>262.200000</td>\n",
       "    </tr>\n",
       "    <tr>\n",
       "      <th>2018-11-30</th>\n",
       "      <td>230.777778</td>\n",
       "    </tr>\n",
       "    <tr>\n",
       "      <th>2018-12-31</th>\n",
       "      <td>209.166667</td>\n",
       "    </tr>\n",
       "    <tr>\n",
       "      <th>2019-01-31</th>\n",
       "      <td>179.428571</td>\n",
       "    </tr>\n",
       "    <tr>\n",
       "      <th>2019-02-28</th>\n",
       "      <td>137.000000</td>\n",
       "    </tr>\n",
       "    <tr>\n",
       "      <th>2019-03-31</th>\n",
       "      <td>115.666667</td>\n",
       "    </tr>\n",
       "  </tbody>\n",
       "</table>\n",
       "</div>"
      ],
      "text/plain": [
       "              issue_resp_time\n",
       "created_date                 \n",
       "2018-09-30         295.500000\n",
       "2018-10-31         262.200000\n",
       "2018-11-30         230.777778\n",
       "2018-12-31         209.166667\n",
       "2019-01-31         179.428571\n",
       "2019-02-28         137.000000\n",
       "2019-03-31         115.666667"
      ]
     },
     "execution_count": 13,
     "metadata": {},
     "output_type": "execute_result"
    }
   ],
   "source": [
    "monthly_df"
   ]
  },
  {
   "cell_type": "markdown",
   "metadata": {},
   "source": [
    "As predicted, the `monthly_df` dataframe has significantly lesser rows than the dataframe we just observed --- `weekly_df`. Each row corresponds to a month between the `since` and `until` finish dates we passed to while instantiating the `IssueResponseTimeGithub` class.  \n",
    "\n",
    "Lets do one last thing: plot the graph for `monthly_df`. "
   ]
  },
  {
   "cell_type": "code",
   "execution_count": 14,
   "metadata": {},
   "outputs": [
    {
     "data": {
      "image/png": "[encoded data removed]",
      "text/plain": [
       "<Figure size 576x396 with 1 Axes>"
      ]
     },
     "metadata": {},
     "output_type": "display_data"
    }
   ],
   "source": [
    "plt.style.use('seaborn')\n",
    "monthly_df.plot(y='issue_resp_time', use_index=True, marker='.')\n",
    "plt.title(\"Average Issue Response Time\");"
   ]
  },
  {
   "cell_type": "code",
   "execution_count": null,
   "metadata": {},
   "outputs": [],
   "source": []
  }
 ],
 "metadata": {
  "kernelspec": {
   "display_name": "Python 3",
   "language": "python",
   "name": "python3"
  },
  "language_info": {
   "codemirror_mode": {
    "name": "ipython",
    "version": 3
   },
   "file_extension": ".py",
   "mimetype": "text/x-python",
   "name": "python",
   "nbconvert_exporter": "python",
   "pygments_lexer": "ipython3",
   "version": "3.6.8"
  },
  "pycharm": {
   "stem_cell": {
    "cell_type": "raw",
    "metadata": {
     "collapsed": false
    },
    "source": []
   }
  }
 },
 "nbformat": 4,
 "nbformat_minor": 2
}
